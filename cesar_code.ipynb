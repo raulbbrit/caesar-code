{
  "nbformat": 4,
  "nbformat_minor": 0,
  "metadata": {
    "colab": {
      "provenance": [],
      "authorship_tag": "ABX9TyP6a9VAJQKD3b+xLzQ7FGCZ"
    },
    "kernelspec": {
      "name": "python3",
      "display_name": "Python 3"
    },
    "language_info": {
      "name": "python"
    }
  },
  "cells": [
    {
      "cell_type": "markdown",
      "source": [
        "# What is Cesar's Code?"
      ],
      "metadata": {
        "id": "Ld6uKqbTwUjk"
      }
    },
    {
      "cell_type": "markdown",
      "source": [
        "## Explain:\n",
        "\n",
        "Cesar's code, also known as the Caesar cipher or shift cipher, is a simple and ancient encryption technique that involves shifting each letter of the alphabet by a certain number of positions in the alphabet."
      ],
      "metadata": {
        "id": "SpBM4jFazLuC"
      }
    },
    {
      "cell_type": "markdown",
      "source": [
        "### Exemple:\n",
        "\n",
        " If the shift value is 3, the letter A is replaced by the letter D, the letter B is replaced by the letter E, and so on.\n",
        " \n",
        "| Original Letter | Shift Value = 3 | Shift Value = 5 |\n",
        "|----------------|----------------|----------------|\n",
        "| A              | D              | F              |\n",
        "| B              | E              | G              |\n",
        "| C              | F              | H              |\n",
        "| D              | G              | I              |\n",
        "| E              | H              | J              |\n",
        "| F              | I              | K              |\n",
        "| G              | J              | L              |\n",
        "| H              | K              | M              |\n",
        "| I              | L              | N              |\n",
        "| J              | M              | O              |\n",
        "| K              | N              | P              |\n",
        "| L              | O              | Q              |\n",
        "| M              | P              | R              |\n",
        "| N              | Q              | S              |\n",
        "| O              | R              | T              |\n",
        "| P              | S              | U              |\n",
        "| Q              | T              | V              |\n",
        "| R              | U              | W              |\n",
        "| S              | V              | X              |\n",
        "| T              | W              | Y              |\n",
        "| U              | X              | Z              |\n",
        "| V              | Y              | A              |\n",
        "| W              | Z              | B              |\n",
        "| X              | A              | C              |\n",
        "| Y              | B              | D              |\n",
        "| Z              | C              | E              | \n",
        "\n",
        "\n",
        "\n"
      ],
      "metadata": {
        "id": "j_JQpZzkzgca"
      }
    },
    {
      "cell_type": "markdown",
      "source": [
        "# Identify the letters\n"
      ],
      "metadata": {
        "id": "eIvMuEaazt9a"
      }
    },
    {
      "cell_type": "code",
      "execution_count": null,
      "metadata": {
        "id": "_xuc1-QXJ1-l"
      },
      "outputs": [],
      "source": [
        "alphabet = ['A','B','C','D','E','F','G','H','I','J','K','L','M','N','O','P','Q','R','S','T','U','V','W','X','Y','Z']\n",
        "numbers = [0, 1, 2, 3, 4, 5, 6, 7, 8, 9, 10, 11, 12, 13, 14, 15, 16, 17, 18, 19, 20, 21, 22, 23, 24, 25]"
      ]
    },
    {
      "cell_type": "markdown",
      "source": [
        "# Separate the word to be encoded into chairs in a list"
      ],
      "metadata": {
        "id": "4YIgiq8Muq8R"
      }
    },
    {
      "cell_type": "code",
      "source": [
        "def WordSeparator(word):\n",
        "    stringToList = []\n",
        "    stringToList[:0] = word.upper()\n",
        "    return stringToList #return a list with a separate plaintext in chars"
      ],
      "metadata": {
        "id": "rKEM0CNOJ_X5"
      },
      "execution_count": null,
      "outputs": []
    },
    {
      "cell_type": "markdown",
      "source": [
        "# Find the letter index"
      ],
      "metadata": {
        "id": "CeG0NEUour0J"
      }
    },
    {
      "cell_type": "code",
      "source": [
        "def LetterIndex(stringlist):\n",
        "    list_plaintext = WordSeparator(stringlist) #gets the list \n",
        "    i = len(list_plaintext) - 1 #plaintext list lenght \n",
        "    index_plaintext = []\n",
        "    while(i >= 0): #scrolls through the list and returns the inverted letter index\n",
        "        for x in alphabet:\n",
        "            if(x == list_plaintext[i]):\n",
        "                index_plaintext.append(alphabet.index(x))\n",
        "        i -= 1\n",
        "    return list(reversed(index_plaintext)) #fix the sequence "
      ],
      "metadata": {
        "id": "8uXgNX5Xtk2I"
      },
      "execution_count": null,
      "outputs": []
    },
    {
      "cell_type": "markdown",
      "source": [
        "# Encrypting by letter index"
      ],
      "metadata": {
        "id": "_ret1cG1usVJ"
      }
    },
    {
      "cell_type": "code",
      "source": [
        "def ShiftingIndex(indexLetter, shifting):\n",
        "    numbers = LetterIndex(indexLetter)\n",
        "    list_code_numbers = []\n",
        "    cleaning_code = 0\n",
        "    \n",
        "    for x in numbers: #change the sequence according to user input \n",
        "      cleaning_code = x\n",
        "      if(cleaning_code + shifting > 25): #alphabet length validation \n",
        "        cleaning_code = cleaning_code%26      \n",
        "      else:\n",
        "        cleaning_code  = cleaning_code + shifting\n",
        "      \n",
        "      list_code_numbers.append(cleaning_code)\n",
        "\n",
        "    return list_code_numbers"
      ],
      "metadata": {
        "id": "seLNTQcJtkwI"
      },
      "execution_count": null,
      "outputs": []
    },
    {
      "cell_type": "markdown",
      "source": [
        "# Return shifted word"
      ],
      "metadata": {
        "id": "6_DUDqF3usy5"
      }
    },
    {
      "cell_type": "code",
      "source": [
        "def Ciphertext(indexLetter, shifting):\n",
        "    code_numbers = ShiftingIndex(indexLetter, shifting)\n",
        "    result_cesar = []\n",
        "    for x in code_numbers: #Replaces the numbers with letters\n",
        "        result_cesar.append(alphabet[x])\n",
        "        \n",
        "    return ''.join(result_cesar)#Turn into string"
      ],
      "metadata": {
        "id": "c-Lm6pb2tkqA"
      },
      "execution_count": null,
      "outputs": []
    },
    {
      "cell_type": "markdown",
      "source": [
        "# Example of use"
      ],
      "metadata": {
        "id": "a7YdVou-utPa"
      }
    },
    {
      "cell_type": "code",
      "source": [
        "shift_number = 100 #To check the user input\n",
        "\n",
        "plaintext = input('Enter a word to be encrypted without accents or spaces:  ')\n",
        "while(shift_number < 1 or shift_number > 25):\n",
        "  shift_number = int(input('How many times do you want to encrypt your word? (1 - 25): '))\n",
        "\n",
        "print('\\n' + Ciphertext(plaintext, shift_number))"
      ],
      "metadata": {
        "id": "hmlDzYBsKEkh",
        "colab": {
          "base_uri": "https://localhost:8080/"
        },
        "outputId": "832f09ed-4a64-4d4e-bc9b-73d7bbc17ed3"
      },
      "execution_count": null,
      "outputs": [
        {
          "output_type": "stream",
          "name": "stdout",
          "text": [
            "Enter a word to be encrypted without accents or spaces:  Raul\n",
            "How many times do you want to encrypt your word? (1 - 25): 4\n",
            "\n",
            "VEYP\n"
          ]
        }
      ]
    },
    {
      "cell_type": "markdown",
      "source": [],
      "metadata": {
        "id": "zd9O0eNrurUB"
      }
    }
  ]
}